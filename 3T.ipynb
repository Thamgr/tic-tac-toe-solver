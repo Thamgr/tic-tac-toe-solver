{
 "cells": [
  {
   "cell_type": "markdown",
   "metadata": {},
   "source": [
    "# Imports"
   ]
  },
  {
   "cell_type": "code",
   "execution_count": 1,
   "metadata": {},
   "outputs": [],
   "source": [
    "import numpy as np\n",
    "import pandas as pd\n",
    "import random"
   ]
  },
  {
   "cell_type": "markdown",
   "metadata": {},
   "source": [
    "# Funcs"
   ]
  },
  {
   "cell_type": "code",
   "execution_count": 2,
   "metadata": {},
   "outputs": [],
   "source": [
    "mem = {}\n",
    "\n",
    "def encode_board(num_board):\n",
    "    enc = {1 : 'x', 0 : '-', -1 : 'o'}\n",
    "    return ''.join(enc[num_board[i // 3][i % 3]] for i in range(9))\n",
    "\n",
    "def decode_board(sym_board):\n",
    "    board = np.zeros([3, 3]).astype(float)\n",
    "    for i in range(3):\n",
    "        for j in range(3):\n",
    "            if sym_board[3 * i + j] == 'x':\n",
    "                board[i][j] = 1\n",
    "            elif sym_board[3 * i + j] == 'o':\n",
    "                board[i][j] = -1\n",
    "    return board\n",
    "\n",
    "def check_win(board, turn):\n",
    "    if board[0][0] + board[1][0] + board[2][0] == 3 * turn:\n",
    "        return True\n",
    "    if board[0][1] + board[1][1] + board[2][1] == 3 * turn:\n",
    "        return True\n",
    "    if board[0][2] + board[1][2] + board[2][2] == 3 * turn:\n",
    "        return True\n",
    "    if board[0][0] + board[0][1] + board[0][2] == 3 * turn:\n",
    "        return True\n",
    "    if board[1][0] + board[1][1] + board[1][2] == 3 * turn:\n",
    "        return True\n",
    "    if board[2][0] + board[2][1] + board[2][2] == 3 * turn:\n",
    "        return True\n",
    "    if board[0][0] + board[1][1] + board[2][2] == 3 * turn:\n",
    "        return True\n",
    "    if board[0][2] + board[1][1] + board[2][0] == 3 * turn:\n",
    "        return True\n",
    "    return False\n",
    "\n",
    "def pure_search(board):\n",
    "    hashed = encode_board(board)\n",
    "    if hashed in mem:\n",
    "        return mem[hashed]\n",
    "    turn = 1 - board.sum() * 2\n",
    "    if check_win(board, turn):\n",
    "        mem[hashed] = [1, [-1, -1]]\n",
    "        return [1, [-1, -1]]\n",
    "    elif check_win(board, -turn):\n",
    "        mem[hashed] = [-1, [-1, -1]]\n",
    "        return [-1, [-1, -1]]\n",
    "    elif (board == 0).sum() == 0:\n",
    "        mem[hashed] = [0, [-1, -1]]\n",
    "        return [0, [-1, -1]]\n",
    "    legal_moves = [[i // 3, i % 3] for i in range(9) if board[i // 3][i % 3] == 0]\n",
    "    evals = []\n",
    "    for move in legal_moves:\n",
    "        board[move[0]][move[1]] = turn\n",
    "        evals.append([-pure_search(board)[0], move])\n",
    "        board[move[0]][move[1]] = 0\n",
    "    evals.sort()\n",
    "    mem[hashed] = evals[-1]\n",
    "    return evals[-1]"
   ]
  },
  {
   "cell_type": "code",
   "execution_count": 3,
   "metadata": {},
   "outputs": [
    {
     "data": {
      "text/plain": [
       "[0, [2, 2]]"
      ]
     },
     "execution_count": 3,
     "metadata": {},
     "output_type": "execute_result"
    }
   ],
   "source": [
    "pure_search(np.zeros([3, 3]))"
   ]
  },
  {
   "cell_type": "markdown",
   "metadata": {},
   "source": [
    "# Save"
   ]
  },
  {
   "cell_type": "code",
   "execution_count": 4,
   "metadata": {},
   "outputs": [],
   "source": [
    "d = {'position': mem.keys(), 'eval': list(mem[i][0] for i in mem.keys())}\n",
    "df = pd.DataFrame(data = d).reset_index(drop = True)\n",
    "df.to_csv(\"db.csv\", index = False)"
   ]
  }
 ],
 "metadata": {
  "kernelspec": {
   "display_name": "Python 3",
   "language": "python",
   "name": "python3"
  },
  "language_info": {
   "codemirror_mode": {
    "name": "ipython",
    "version": 3
   },
   "file_extension": ".py",
   "mimetype": "text/x-python",
   "name": "python",
   "nbconvert_exporter": "python",
   "pygments_lexer": "ipython3",
   "version": "3.8.2"
  }
 },
 "nbformat": 4,
 "nbformat_minor": 4
}
